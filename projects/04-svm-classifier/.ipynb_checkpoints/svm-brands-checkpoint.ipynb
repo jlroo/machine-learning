{
 "cells": [
  {
   "cell_type": "markdown",
   "metadata": {},
   "source": [
    "## Brands Classification\n",
    "\n",
    "Think about whether you need to do some pre-processing (e.g. convert categorical attributes to numerical values, do the standartization/normalization)."
   ]
  },
  {
   "cell_type": "markdown",
   "metadata": {},
   "source": [
    "Now split it into training (70%), development (15%) and test (15%) sets."
   ]
  },
  {
   "cell_type": "markdown",
   "metadata": {},
   "source": [
    "What is the most appropriate evaluation metric is for your dataset (e.g. accuracy vs. F1 score).\n",
    "\n",
    "-----"
   ]
  },
  {
   "cell_type": "code",
   "execution_count": 1,
   "metadata": {},
   "outputs": [],
   "source": [
    "import numpy as np\n",
    "import pandas as pd\n",
    "import matplotlib.pyplot as plt\n",
    "import seaborn as sns\n",
    "from sklearn import svm\n",
    "from sklearn.model_selection import train_test_split\n",
    "from sklearn.metrics import mean_squared_error\n",
    "from sklearn.preprocessing import normalize"
   ]
  },
  {
   "cell_type": "code",
   "execution_count": 167,
   "metadata": {},
   "outputs": [
    {
     "data": {
      "text/html": [
       "<div>\n",
       "<style>\n",
       "    .dataframe thead tr:only-child th {\n",
       "        text-align: right;\n",
       "    }\n",
       "\n",
       "    .dataframe thead th {\n",
       "        text-align: left;\n",
       "    }\n",
       "\n",
       "    .dataframe tbody tr th {\n",
       "        vertical-align: top;\n",
       "    }\n",
       "</style>\n",
       "<table border=\"1\" class=\"dataframe\">\n",
       "  <thead>\n",
       "    <tr style=\"text-align: right;\">\n",
       "      <th></th>\n",
       "      <th>intl</th>\n",
       "      <th>property_rights</th>\n",
       "      <th>cost_enforcing_contracts</th>\n",
       "      <th>rule_of_law_index</th>\n",
       "      <th>brand_sales</th>\n",
       "      <th>resolving_insolvency</th>\n",
       "      <th>law_order</th>\n",
       "      <th>regulatory_quality_index</th>\n",
       "      <th>political_stability_index</th>\n",
       "      <th>brand_id</th>\n",
       "    </tr>\n",
       "  </thead>\n",
       "  <tbody>\n",
       "    <tr>\n",
       "      <th>0</th>\n",
       "      <td>0</td>\n",
       "      <td>30</td>\n",
       "      <td>NaN</td>\n",
       "      <td>0.2</td>\n",
       "      <td>1.308701</td>\n",
       "      <td>NaN</td>\n",
       "      <td>4.000</td>\n",
       "      <td>0.6</td>\n",
       "      <td>0.1</td>\n",
       "      <td>1</td>\n",
       "    </tr>\n",
       "    <tr>\n",
       "      <th>1</th>\n",
       "      <td>0</td>\n",
       "      <td>30</td>\n",
       "      <td>NaN</td>\n",
       "      <td>0.1</td>\n",
       "      <td>1.366898</td>\n",
       "      <td>NaN</td>\n",
       "      <td>3.625</td>\n",
       "      <td>0.6</td>\n",
       "      <td>0.4</td>\n",
       "      <td>1</td>\n",
       "    </tr>\n",
       "    <tr>\n",
       "      <th>2</th>\n",
       "      <td>0</td>\n",
       "      <td>30</td>\n",
       "      <td>23.8</td>\n",
       "      <td>0.1</td>\n",
       "      <td>1.469345</td>\n",
       "      <td>136.0</td>\n",
       "      <td>2.500</td>\n",
       "      <td>0.6</td>\n",
       "      <td>0.4</td>\n",
       "      <td>1</td>\n",
       "    </tr>\n",
       "    <tr>\n",
       "      <th>3</th>\n",
       "      <td>0</td>\n",
       "      <td>30</td>\n",
       "      <td>23.8</td>\n",
       "      <td>0.2</td>\n",
       "      <td>1.473353</td>\n",
       "      <td>128.0</td>\n",
       "      <td>2.500</td>\n",
       "      <td>0.7</td>\n",
       "      <td>0.3</td>\n",
       "      <td>1</td>\n",
       "    </tr>\n",
       "    <tr>\n",
       "      <th>4</th>\n",
       "      <td>0</td>\n",
       "      <td>30</td>\n",
       "      <td>23.8</td>\n",
       "      <td>0.1</td>\n",
       "      <td>1.435738</td>\n",
       "      <td>125.0</td>\n",
       "      <td>2.500</td>\n",
       "      <td>0.7</td>\n",
       "      <td>0.3</td>\n",
       "      <td>1</td>\n",
       "    </tr>\n",
       "  </tbody>\n",
       "</table>\n",
       "</div>"
      ],
      "text/plain": [
       "   intl  property_rights  cost_enforcing_contracts  rule_of_law_index  \\\n",
       "0     0               30                       NaN                0.2   \n",
       "1     0               30                       NaN                0.1   \n",
       "2     0               30                      23.8                0.1   \n",
       "3     0               30                      23.8                0.2   \n",
       "4     0               30                      23.8                0.1   \n",
       "\n",
       "   brand_sales  resolving_insolvency  law_order  regulatory_quality_index  \\\n",
       "0     1.308701                   NaN      4.000                       0.6   \n",
       "1     1.366898                   NaN      3.625                       0.6   \n",
       "2     1.469345                 136.0      2.500                       0.6   \n",
       "3     1.473353                 128.0      2.500                       0.7   \n",
       "4     1.435738                 125.0      2.500                       0.7   \n",
       "\n",
       "   political_stability_index  brand_id  \n",
       "0                        0.1         1  \n",
       "1                        0.4         1  \n",
       "2                        0.4         1  \n",
       "3                        0.3         1  \n",
       "4                        0.3         1  "
      ]
     },
     "execution_count": 167,
     "metadata": {},
     "output_type": "execute_result"
    }
   ],
   "source": [
    "data = pd.read_csv(\"data/brands.csv\",encoding='latin-1')\n",
    "train = np.genfromtxt(\"data/brands-index.csv\", delimiter=',', \n",
    "                      skip_header=1, \n",
    "                      names='brand_id,intl,property_rights,cost_enforcing_contracts,rule_of_law_index,brand_sales,resolving_insolvency,law_order,regulatory_quality_index,political_stability_index')\n",
    "names = list(data.columns)\n",
    "colnames = names[3:13]\n",
    "data[colnames].head()"
   ]
  },
  {
   "cell_type": "code",
   "execution_count": 168,
   "metadata": {},
   "outputs": [],
   "source": [
    "brand_id = data['brand_id']\n",
    "features = data[colnames].groupby('brand_id')[names[3:12]].mean()\n",
    "features['intl'][features['intl']>=0.09] = 1.000000\n",
    "features['intl'][features['intl']<=0.09] = 0.000000"
   ]
  },
  {
   "cell_type": "code",
   "execution_count": 170,
   "metadata": {},
   "outputs": [],
   "source": [
    "features = features.reset_index()\n",
    "features = features.values"
   ]
  },
  {
   "cell_type": "code",
   "execution_count": 172,
   "metadata": {},
   "outputs": [],
   "source": [
    "train = train.astype([('brand_id', '<i8'), ('intl', '<i8'), ('property_rights', '<f8'), ('cost_enforcing_contracts', '<f8'), \n",
    "                            ('rule_of_law_index', '<f8'), ('brand_sales', '<f8'), ('resolving_insolvency', '<f8'),\n",
    "                            ('law_order', '<f8'), ('regulatory_quality_index', '<f8'), ('political_stability_index', '<f8')])\n",
    "\n"
   ]
  },
  {
   "cell_type": "code",
   "execution_count": 169,
   "metadata": {},
   "outputs": [
    {
     "data": {
      "image/png": "[encoded data removed]",
      "text/plain": [
       "<matplotlib.figure.Figure at 0x1218e4a20>"
      ]
     },
     "metadata": {},
     "output_type": "display_data"
    }
   ],
   "source": [
    "plt.subplots(figsize=(12,12))\n",
    "sns.countplot(features['intl'])\n",
    "plt.show()"
   ]
  },
  {
   "cell_type": "code",
   "execution_count": 173,
   "metadata": {},
   "outputs": [],
   "source": [
    "pred = np.array([train['property_rights'], train['cost_enforcing_contracts'], \n",
    "                 train['rule_of_law_index'], train['brand_sales'], train['resolving_insolvency'], \n",
    "                 train['law_order'], train['regulatory_quality_index'], train['political_stability_index']])\n",
    "pred = pred.transpose()\n",
    "pred = normalize(pred)\n",
    "\n",
    "brandId = train['brand_id']\n",
    "train_target = train['intl']\n",
    "\n",
    "X_train, X_test,\\\n",
    "y_train, y_test,\\\n",
    "idx_train, idx_test = train_test_split(pred, train_target, \n",
    "                                       brandId, test_size = 0.3, \n",
    "                                       train_size= 0.7)"
   ]
  },
  {
   "cell_type": "markdown",
   "metadata": {},
   "source": [
    "### SVM implementations in scikit-learn to train a classifier. Use the default classifier parameters. Evaluate your classifier on the development set."
   ]
  },
  {
   "cell_type": "code",
   "execution_count": 174,
   "metadata": {},
   "outputs": [
    {
     "data": {
      "text/plain": [
       "SVC(C=1.0, cache_size=200, class_weight=None, coef0=0.0,\n",
       "  decision_function_shape='ovr', degree=3, gamma='auto', kernel='rbf',\n",
       "  max_iter=-1, probability=False, random_state=None, shrinking=True,\n",
       "  tol=0.001, verbose=False)"
      ]
     },
     "execution_count": 174,
     "metadata": {},
     "output_type": "execute_result"
    }
   ],
   "source": [
    "clf = svm.LinearSVC()\n",
    "clf.fit(X_train, y_train)  "
   ]
  },
  {
   "cell_type": "code",
   "execution_count": 175,
   "metadata": {},
   "outputs": [
    {
     "data": {
      "text/plain": [
       "0.17540453074433657"
      ]
     },
     "execution_count": 175,
     "metadata": {},
     "output_type": "execute_result"
    }
   ],
   "source": [
    "pred = clf.predict(X_test)\n",
    "mean_squared_error(y_pred = pred, y_true = y_test)"
   ]
  },
  {
   "cell_type": "markdown",
   "metadata": {},
   "source": [
    "-----\n",
    "\n",
    "### Now try to tweak the classifier parameters and see if you can improve your model’s performance on the development set."
   ]
  },
  {
   "cell_type": "code",
   "execution_count": null,
   "metadata": {
    "collapsed": true
   },
   "outputs": [],
   "source": []
  },
  {
   "cell_type": "markdown",
   "metadata": {},
   "source": [
    "-----\n",
    "\n",
    "### Implement your own k-nearest neighbors classifier (KNN)."
   ]
  },
  {
   "cell_type": "code",
   "execution_count": null,
   "metadata": {
    "collapsed": true
   },
   "outputs": [],
   "source": []
  },
  {
   "cell_type": "markdown",
   "metadata": {},
   "source": [
    "-----\n",
    "\n",
    "### Now try to tune the $k$ value to achive the best possible performance on the development set."
   ]
  },
  {
   "cell_type": "code",
   "execution_count": null,
   "metadata": {
    "collapsed": true
   },
   "outputs": [],
   "source": []
  },
  {
   "cell_type": "markdown",
   "metadata": {},
   "source": [
    "\n",
    "-----\n",
    "\n",
    "### Compare your best model you built in step (2) to your best KNN model by evaluating them on the test set."
   ]
  },
  {
   "cell_type": "code",
   "execution_count": null,
   "metadata": {
    "collapsed": true
   },
   "outputs": [],
   "source": []
  }
 ],
 "metadata": {
  "kernelspec": {
   "display_name": "Python 3",
   "language": "python",
   "name": "python3"
  },
  "language_info": {
   "codemirror_mode": {
    "name": "ipython",
    "version": 3
   },
   "file_extension": ".py",
   "mimetype": "text/x-python",
   "name": "python",
   "nbconvert_exporter": "python",
   "pygments_lexer": "ipython3",
   "version": "3.6.3"
  }
 },
 "nbformat": 4,
 "nbformat_minor": 2
}
