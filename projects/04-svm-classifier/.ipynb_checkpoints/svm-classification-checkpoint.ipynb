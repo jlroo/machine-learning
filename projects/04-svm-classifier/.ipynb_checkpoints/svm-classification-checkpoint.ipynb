{
 "cells": [
  {
   "cell_type": "markdown",
   "metadata": {},
   "source": [
    "## Humans of New York - Comments Gender Classification\n",
    "\n",
    "Think about whether you need to do some pre-processing (e.g. convert categorical attributes to numerical values, do the standartization/normalization)."
   ]
  },
  {
   "cell_type": "markdown",
   "metadata": {},
   "source": [
    "Now split it into training (70%), development (15%) and test (15%) sets."
   ]
  },
  {
   "cell_type": "markdown",
   "metadata": {},
   "source": [
    "What is the most appropriate evaluation metric is for your dataset (e.g. accuracy vs. F1 score).\n",
    "\n",
    "-----"
   ]
  },
  {
   "cell_type": "code",
   "execution_count": 1,
   "metadata": {},
   "outputs": [],
   "source": [
    "import seaborn as sns\n",
    "import re\n",
    "import numpy as np\n",
    "import pandas as pd\n",
    "import matplotlib.pyplot as plt\n",
    "from collections import Counter\n",
    "from sklearn.svm import LinearSVC\n",
    "from sklearn.metrics import f1_score\n",
    "from sklearn.preprocessing import scale\n",
    "from sklearn.model_selection import train_test_split\n",
    "from sklearn.model_selection import cross_val_score\n",
    "from sklearn.feature_extraction.text import CountVectorizer\n",
    "from sklearn.feature_selection import SelectFromModel\n",
    "from sklearn.neighbors import KNeighborsClassifier"
   ]
  },
  {
   "cell_type": "markdown",
   "metadata": {},
   "source": [
    "### Functions"
   ]
  },
  {
   "cell_type": "code",
   "execution_count": 2,
   "metadata": {},
   "outputs": [],
   "source": [
    "__masculine__ = set(['actor', 'author', 'boy', 'brave', 'bachelor', 'bridegroom',\n",
    "       'brother', 'conductor', 'dad', 'daddy', 'duke', 'emperor', 'father',\n",
    "       'father-in-law', 'fiance', 'gentleman', 'his', 'him', 'governor',\n",
    "       'grandfather', 'grandson', 'headmaster', 'heir', 'hero', 'host',\n",
    "       'hunter', 'husband', 'king', 'lad', 'landlord', 'lord', 'male',\n",
    "       'man', 'manager', 'masseur', 'milkman', 'monitor', 'monk',\n",
    "       'murderer', 'nephew', 'papa', 'policeman', 'postman', 'postmaster',\n",
    "       'priest', 'prince', 'prophet', 'proprietor', 'prosecutor',\n",
    "       'protector', 'shepherd', 'sir', 'son', 'son-in-law', 'stepfather',\n",
    "       'stepson', 'steward', 'sultan', 'tailor', 'testator', 'uncle',\n",
    "       'usher', 'waiter', 'washerman', 'widower', 'wizard'])"
   ]
  },
  {
   "cell_type": "code",
   "execution_count": 3,
   "metadata": {},
   "outputs": [],
   "source": [
    "__feminine__ = set(['actress', 'spinster', 'girl', 'bride', 'sister', 'conductress',\n",
    "       'countess', 'czarina', 'mum', 'mummy', 'duchess', 'empress',\n",
    "       'mother', 'mother-in-law', 'fiancee', 'lady', 'giantess', 'goddess',\n",
    "       'grandmother', 'granddaughter', 'headmistress', 'heiress',\n",
    "       'heroine', 'hostess', 'wife', 'queen', 'lass', 'landlady', 'lady',\n",
    "       'female', 'woman', 'manageress', 'masseuse', 'mistress', 'nun',\n",
    "       'mrs', 'niece', 'mama', 'policewoman', 'postwoman', 'prietess',\n",
    "       'princess', 'madam', 'daughter', 'daughter-in-law', 'step-mother',\n",
    "       'step-daughter', 'stewardess', 'tailoress', 'testatrix', 'aunt',\n",
    "       'usherette', 'waitress', 'washerwoman', 'widow', 'witch', 'bitch',\n",
    "       'jenny', 'her', 'hers', 'she', 'maid'])"
   ]
  },
  {
   "cell_type": "code",
   "execution_count": 4,
   "metadata": {},
   "outputs": [],
   "source": [
    "def data_classes(messages):\n",
    "    gender = []\n",
    "    msgs = [re.sub(r\"\\b\\d+\\b|![:alpha:]|\\d|\\W|_|\\b\\w{1,2}\\b\", \" \", m).lower() for m in messages]\n",
    "    for msg in msgs:\n",
    "        msg_bag = msg.split(' ')\n",
    "        if any([True if w in __feminine__ else False for w in msg_bag]):\n",
    "            gender.append(1) # F\n",
    "        elif any([True if w in __masculine__ else False for w in msg_bag]):\n",
    "            gender.append(0) # M\n",
    "        else:\n",
    "            gender.append(2) # OTHER\n",
    "    return gender"
   ]
  },
  {
   "cell_type": "code",
   "execution_count": 5,
   "metadata": {},
   "outputs": [],
   "source": [
    "def text_processing(messages, max_features = None):\n",
    "    corpus = [re.sub(r\"\\b\\d+\\b|![:alpha:]|\\d|\\W|_|\\b\\w{1,2}\\b\", \" \", m).lower() for m in messages]\n",
    "    if max_features is not None:\n",
    "        vectorizer = CountVectorizer(strip_accents = 'ascii', stop_words=['english'], max_features = max_features)\n",
    "    else:\n",
    "        vectorizer = CountVectorizer(strip_accents = 'ascii', stop_words=['english'])\n",
    "    vcorpus = vectorizer.fit_transform(corpus)\n",
    "    labels = vectorizer.get_feature_names()\n",
    "    return vcorpus, labels"
   ]
  },
  {
   "cell_type": "code",
   "execution_count": 6,
   "metadata": {},
   "outputs": [],
   "source": [
    "def data_processing(data,\n",
    "                 vcorpus,\n",
    "                 column_class = '',\n",
    "                 colnames = list):\n",
    "    data[colnames] = data[colnames].astype(float)\n",
    "    train = scale(data[colnames].values)\n",
    "    target = data[column_class].values\n",
    "    train = np.column_stack((vcorpus.toarray(), train))\n",
    "    return train, target"
   ]
  },
  {
   "cell_type": "code",
   "execution_count": 7,
   "metadata": {},
   "outputs": [],
   "source": [
    "def svm_cross_val(clf, X, y, k=21, cv=5, C=0.01):\n",
    "    svm_scores = {}\n",
    "    for i in np.linspace(C, 1.0, k):\n",
    "        clf = LinearSVC(C=i)\n",
    "        scores = cross_val_score(clf, X, y, cv=cv, scoring='accuracy')\n",
    "        svm_scores[i] = scores.mean()\n",
    "    return svm_scores"
   ]
  },
  {
   "cell_type": "code",
   "execution_count": 8,
   "metadata": {},
   "outputs": [],
   "source": [
    "def plot_svm_scores(svm_score):\n",
    "    x_values = np.array(list(svm_score.keys()))\n",
    "    y_values = np.array(list(svm_score.values()))\n",
    "    plt.figure(figsize=(12,12))\n",
    "    plt.plot(x_values, y_values, marker=\"o\", markerfacecolor=\"b\")\n",
    "    plt.plot(x_values[np.argmax(y_values)], y_values[np.argmax(y_values)], 'ro')\n",
    "    plt.yticks(y_values)\n",
    "    plt.show()"
   ]
  },
  {
   "cell_type": "code",
   "execution_count": 9,
   "metadata": {},
   "outputs": [],
   "source": [
    "def knn_cross_val(knn, X, y, k=21,cv=5, step=1):\n",
    "    knn_scores = {}\n",
    "    for _k in range(1,k,step):\n",
    "        knn = KNeighborsClassifier(n_neighbors = _k)\n",
    "        scores = cross_val_score(knn, X, y, cv=cv, scoring='accuracy')\n",
    "        knn_scores[_k] = scores.mean()\n",
    "    return knn_scores"
   ]
  },
  {
   "cell_type": "code",
   "execution_count": 10,
   "metadata": {},
   "outputs": [],
   "source": [
    "def plot_knn_scores(knn_scores):\n",
    "    \n",
    "    x_odd = np.array(list(knn_scores.keys()))[::2]\n",
    "    y_odd = np.array(list(knn_scores.values()))[::2]\n",
    "    x_even = np.array(list(knn_scores.keys()))[1::2]\n",
    "    y_even = np.array(list(knn_scores.values()))[1::2]\n",
    "    plt.figure(figsize=(12,12))\n",
    "    plt.plot(x_odd, y_odd, marker=\"o\", markerfacecolor=\"b\")\n",
    "    plt.plot(x_even, y_even, marker=\"s\", markerfacecolor=\"r\")\n",
    "    plt.xlim(0,21)\n",
    "    plt.xticks(range(0, 21, 1))\n",
    "    plt.yticks(y_even)\n",
    "    plt.show()"
   ]
  },
  {
   "cell_type": "code",
   "execution_count": 11,
   "metadata": {},
   "outputs": [],
   "source": [
    "class KnnClassifier:\n",
    "    def __init__(self, n_neighbors):\n",
    "        self.n_neighbors = n_neighbors\n",
    "        \n",
    "    def fit(self, X, y):\n",
    "        if self.n_neighbors > X.shape[0]:\n",
    "            raise ValueError('Number of neighbors greater than Training set samples')\n",
    "        self._X=X\n",
    "        self._y=y\n",
    "\n",
    "    def predict(self, X):\n",
    "        \n",
    "        if X.shape[0] > self._X.shape[0]:\n",
    "            raise ValueError('Test set size (rows) is greather than Training set.')\n",
    "        if X.shape[1] != self._X.shape[1]:\n",
    "            raise ValueError('Test set has different number of features (columns) than Training set.')\n",
    "        \n",
    "        self.pred = np.empty(shape=(X.shape[0],0),dtype = self._y.dtype)\n",
    "        \n",
    "        for i in range(X.shape[0]):\n",
    "            _test = X[i, :]\n",
    "            _euclidean = []\n",
    "            _class = []\n",
    "            for n in range(self._X.shape[0]):\n",
    "                dist = np.sqrt(np.sum(np.square(_test - self._X[n, :])))\n",
    "                _euclidean.append(dist)\n",
    "                \n",
    "            idx = np.argsort(_euclidean)\n",
    "            \n",
    "            for k in range(self.n_neighbors):\n",
    "                _class.append(self._y[idx[k]])\n",
    "            \n",
    "            self.pred = np.append(self.pred, Counter(_class).most_common(1)[0][0])\n",
    "            \n",
    "        return self.pred"
   ]
  },
  {
   "cell_type": "markdown",
   "metadata": {},
   "source": [
    "### Analysis"
   ]
  },
  {
   "cell_type": "code",
   "execution_count": 12,
   "metadata": {},
   "outputs": [],
   "source": [
    "data = pd.read_csv(\"humansofnewyork.csv\")\n",
    "names = list(data.columns)\n",
    "colnames = [names[2], names[5], names[7], names[8], names[9]]\n",
    "data = data[data['message'].notnull()]"
   ]
  },
  {
   "cell_type": "code",
   "execution_count": 13,
   "metadata": {},
   "outputs": [],
   "source": [
    "data = pd.read_csv(\"humansofnewyork.csv\")\n",
    "names = list(data.columns)\n",
    "colnames = [names[2], names[5], names[7], names[8], names[9]]\n",
    "data = data[data['message'].notnull()]"
   ]
  },
  {
   "cell_type": "code",
   "execution_count": 14,
   "metadata": {},
   "outputs": [],
   "source": [
    "messages = data['message']\n",
    "gender = data_classes(messages)\n",
    "data['gender'] = gender\n",
    "drop = data[data['gender'] == 2]\n",
    "data = data.drop(drop.index)\n",
    "data = data.iloc[:, [2,5,7,8,9,10]]"
   ]
  },
  {
   "cell_type": "code",
   "execution_count": 15,
   "metadata": {},
   "outputs": [],
   "source": [
    "vcorpus, labels = text_processing(data['message'])\n",
    "train, train_target = data_processing(data, \n",
    "                                   vcorpus, \n",
    "                                   column_class = 'gender',\n",
    "                                   colnames = colnames[2:])"
   ]
  },
  {
   "cell_type": "code",
   "execution_count": 16,
   "metadata": {},
   "outputs": [],
   "source": [
    "X_train, X_test, y_train, y_test = train_test_split(train, train_target, test_size = 0.3,train_size= 0.7)\n",
    "#X_dev, X_test, y_dev, y_test = train_test_split(X_test, y_test, test_size = 0.5, train_size= 0.50)"
   ]
  },
  {
   "cell_type": "code",
   "execution_count": 17,
   "metadata": {
    "scrolled": false
   },
   "outputs": [
    {
     "data": {
      "image/png": "[encoded data removed]",
      "text/plain": [
       "<matplotlib.figure.Figure at 0x114d5d828>"
      ]
     },
     "metadata": {},
     "output_type": "display_data"
    }
   ],
   "source": [
    "plt.figure(1,figsize = (16,16))\n",
    "plt.subplot(221)\n",
    "sns.countplot(data['gender'])\n",
    "plt.subplot(222)\n",
    "sns.boxplot(x = 'gender', y = 'likes_count', data = data)\n",
    "plt.subplot(223)\n",
    "sns.boxplot(x = 'gender', y = 'comments_count', data = data)\n",
    "plt.subplot(224)\n",
    "sns.boxplot(x = 'gender', y = 'shares_count', data = data)\n",
    "plt.show()"
   ]
  },
  {
   "cell_type": "markdown",
   "metadata": {},
   "source": [
    "### SVM implementations in scikit-learn to train a classifier. Use the default classifier parameters. Evaluate your classifier on the development set."
   ]
  },
  {
   "cell_type": "code",
   "execution_count": 18,
   "metadata": {},
   "outputs": [
    {
     "data": {
      "text/plain": [
       "LinearSVC(C=1, class_weight=None, dual=True, fit_intercept=True,\n",
       "     intercept_scaling=1, loss='squared_hinge', max_iter=1000,\n",
       "     multi_class='ovr', penalty='l2', random_state=None, tol=0.0001,\n",
       "     verbose=0)"
      ]
     },
     "execution_count": 18,
     "metadata": {},
     "output_type": "execute_result"
    }
   ],
   "source": [
    "model = LinearSVC(C=1)\n",
    "model.fit(X_train, y_train)"
   ]
  },
  {
   "cell_type": "code",
   "execution_count": 19,
   "metadata": {},
   "outputs": [],
   "source": [
    "df = pd.DataFrame(X_train).head()\n",
    "df.to_csv(\"/Users/jlroo/Desktop/head.csv\")"
   ]
  },
  {
   "cell_type": "code",
   "execution_count": 20,
   "metadata": {},
   "outputs": [],
   "source": [
    "feature_selection = SelectFromModel(model, prefit=True)\n",
    "X_train = feature_selection.transform(X_train)\n",
    "X_test = feature_selection.transform(X_test)"
   ]
  },
  {
   "cell_type": "code",
   "execution_count": 21,
   "metadata": {},
   "outputs": [],
   "source": [
    "clf = LinearSVC(C=1)\n",
    "clf.fit(X_train, y_train)\n",
    "pred = clf.predict(X_test)"
   ]
  },
  {
   "cell_type": "code",
   "execution_count": 22,
   "metadata": {},
   "outputs": [],
   "source": [
    "svc_scores = svm_cross_val(clf, X_train, y_train, k=21, cv=5, C=0.01)"
   ]
  },
  {
   "cell_type": "code",
   "execution_count": 23,
   "metadata": {},
   "outputs": [
    {
     "data": {
      "image/png": "[encoded data removed]",
      "text/plain": [
       "<matplotlib.figure.Figure at 0x114c9efd0>"
      ]
     },
     "metadata": {},
     "output_type": "display_data"
    }
   ],
   "source": [
    "plot_svm_scores(svc_scores)"
   ]
  },
  {
   "cell_type": "markdown",
   "metadata": {},
   "source": [
    "-----\n",
    "\n",
    "### Now try to tweak the classifier parameters and see if you can improve your model’s performance on the development set."
   ]
  },
  {
   "cell_type": "markdown",
   "metadata": {},
   "source": [
    "-----\n",
    "\n",
    "### Implement your own k-nearest neighbors classifier (KNN)."
   ]
  },
  {
   "cell_type": "code",
   "execution_count": null,
   "metadata": {},
   "outputs": [],
   "source": [
    "knn = KnnClassifier(n_neighbors=1)\n",
    "knn.fit(X_train, y_train)\n",
    "kpred = knn.predict(X_test)"
   ]
  },
  {
   "cell_type": "markdown",
   "metadata": {},
   "source": [
    "-----\n",
    "\n",
    "### Now try to tune the $k$ value to achive the best possible performance on the development set."
   ]
  },
  {
   "cell_type": "code",
   "execution_count": null,
   "metadata": {},
   "outputs": [],
   "source": [
    "import psutil\n",
    "cores = psutil.cpu_count()\n",
    "knn = KNeighborsClassifier(n_jobs=cores)\n",
    "knn_scores = knn_cross_val(knn, X_train, y_train, k=21,cv=5, step=1)"
   ]
  },
  {
   "cell_type": "code",
   "execution_count": null,
   "metadata": {},
   "outputs": [],
   "source": [
    "plot_knn_scores(knn_scores)"
   ]
  },
  {
   "cell_type": "code",
   "execution_count": null,
   "metadata": {},
   "outputs": [],
   "source": [
    "x = np.array(list(knn_scores.keys()))\n",
    "y = np.array(list(knn_scores.values()))\n",
    "plt.figure(figsize=(12,12))\n",
    "plt.plot(x, y, marker=\"s\", markerfacecolor=\"r\")\n",
    "plt.xlim(0,21)\n",
    "plt.xticks(range(0, 21, 1))\n",
    "#plt.yticks(y)\n",
    "plt.show()"
   ]
  },
  {
   "cell_type": "markdown",
   "metadata": {},
   "source": [
    "\n",
    "-----\n",
    "\n",
    "### Compare your best model you built in step (2) to your best KNN model by evaluating them on the test set."
   ]
  },
  {
   "cell_type": "code",
   "execution_count": null,
   "metadata": {},
   "outputs": [],
   "source": [
    "f1_score(y_pred = pred, y_true = y_test, average='weighted')"
   ]
  },
  {
   "cell_type": "code",
   "execution_count": null,
   "metadata": {},
   "outputs": [],
   "source": [
    "f1_score(y_pred = kpred, y_true = y_test, average='weighted')"
   ]
  },
  {
   "cell_type": "code",
   "execution_count": null,
   "metadata": {},
   "outputs": [],
   "source": [
    "print(\"----------------- Model Evaluation -----------------\")\n",
    "print(\"f1 Score Metric - Scale (0.0, 1.0) - (WORSE, BEST)\")\n",
    "print(\"\")\n",
    "print(\"--------------- SVM Metric Evaluation --------------\")\n",
    "print(\"SVM f1 Score: \" + str(svm_f1))\n",
    "print(\"\")\n",
    "print(\"--------------- KNN Metric Evaluation --------------\")\n",
    "print(\"KNN f1 Score: \" + str(knn_f1))"
   ]
  }
 ],
 "metadata": {
  "kernelspec": {
   "display_name": "Python 3",
   "language": "python",
   "name": "python3"
  },
  "language_info": {
   "codemirror_mode": {
    "name": "ipython",
    "version": 3
   },
   "file_extension": ".py",
   "mimetype": "text/x-python",
   "name": "python",
   "nbconvert_exporter": "python",
   "pygments_lexer": "ipython3",
   "version": "3.6.3"
  }
 },
 "nbformat": 4,
 "nbformat_minor": 2
}
