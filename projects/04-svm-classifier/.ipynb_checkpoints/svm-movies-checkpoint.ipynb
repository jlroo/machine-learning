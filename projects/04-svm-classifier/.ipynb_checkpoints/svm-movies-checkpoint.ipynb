{
 "cells": [
  {
   "cell_type": "markdown",
   "metadata": {},
   "source": [
    "## Imdb Movie Raitings Genre Classification\n",
    "\n",
    "Think about whether you need to do some pre-processing (e.g. convert categorical attributes to numerical values, do the standartization/normalization)."
   ]
  },
  {
   "cell_type": "markdown",
   "metadata": {},
   "source": [
    "Now split it into training (70%), development (15%) and test (15%) sets."
   ]
  },
  {
   "cell_type": "markdown",
   "metadata": {},
   "source": [
    "What is the most appropriate evaluation metric is for your dataset (e.g. accuracy vs. F1 score).\n",
    "\n",
    "-----"
   ]
  },
  {
   "cell_type": "code",
   "execution_count": 2,
   "metadata": {},
   "outputs": [],
   "source": [
    "import numpy as np\n",
    "import pandas as pd\n",
    "import matplotlib.pyplot as plt\n",
    "import seaborn as sns\n",
    "from sklearn import svm\n",
    "from sklearn.model_selection import train_test_split\n",
    "from sklearn.metrics import mean_squared_error\n",
    "from sklearn.preprocessing import normalize\n",
    "from sklearn.feature_extraction.text import CountVectorizer"
   ]
  },
  {
   "cell_type": "code",
   "execution_count": 284,
   "metadata": {},
   "outputs": [],
   "source": [
    "train = pd.read_csv(\"data/imdb_rating.csv\")\n",
    "\n",
    "colnames = ['genres','length', 'budget', 'director_fb_likes', 'actor1_fb_likes',\n",
    " 'actor2_fb_likes', 'actor3_fb_likes', 'total_cast_likes', 'fb_likes',\n",
    " 'critic_reviews', 'users_reviews', 'users_votes',\n",
    " 'score', 'aspect_ratio', 'gross']"
   ]
  },
  {
   "cell_type": "code",
   "execution_count": 285,
   "metadata": {},
   "outputs": [],
   "source": [
    "for feature in colnames[1:]:\n",
    "    train[feature] = np.where(np.isnan(train[feature]), np.nanmean(train[feature], axis=0), train[feature])"
   ]
  },
  {
   "cell_type": "code",
   "execution_count": 286,
   "metadata": {},
   "outputs": [
    {
     "data": {
      "text/html": [
       "<div>\n",
       "<style>\n",
       "    .dataframe thead tr:only-child th {\n",
       "        text-align: right;\n",
       "    }\n",
       "\n",
       "    .dataframe thead th {\n",
       "        text-align: left;\n",
       "    }\n",
       "\n",
       "    .dataframe tbody tr th {\n",
       "        vertical-align: top;\n",
       "    }\n",
       "</style>\n",
       "<table border=\"1\" class=\"dataframe\">\n",
       "  <thead>\n",
       "    <tr style=\"text-align: right;\">\n",
       "      <th></th>\n",
       "      <th>genres</th>\n",
       "      <th>length</th>\n",
       "      <th>budget</th>\n",
       "      <th>director_fb_likes</th>\n",
       "      <th>actor1_fb_likes</th>\n",
       "      <th>actor2_fb_likes</th>\n",
       "      <th>actor3_fb_likes</th>\n",
       "      <th>total_cast_likes</th>\n",
       "      <th>fb_likes</th>\n",
       "      <th>critic_reviews</th>\n",
       "      <th>users_reviews</th>\n",
       "      <th>users_votes</th>\n",
       "      <th>score</th>\n",
       "      <th>aspect_ratio</th>\n",
       "      <th>gross</th>\n",
       "    </tr>\n",
       "  </thead>\n",
       "  <tbody>\n",
       "    <tr>\n",
       "      <th>0</th>\n",
       "      <td>Action|Adventure|Fantasy|Sci-Fi</td>\n",
       "      <td>178.000000</td>\n",
       "      <td>2.370000e+08</td>\n",
       "      <td>0.0</td>\n",
       "      <td>1000.0</td>\n",
       "      <td>936.0</td>\n",
       "      <td>855.000000</td>\n",
       "      <td>4834.0</td>\n",
       "      <td>33000.0</td>\n",
       "      <td>723.000000</td>\n",
       "      <td>3054.000000</td>\n",
       "      <td>886204.0</td>\n",
       "      <td>7.9</td>\n",
       "      <td>1.780000</td>\n",
       "      <td>7.605058e+08</td>\n",
       "    </tr>\n",
       "    <tr>\n",
       "      <th>1</th>\n",
       "      <td>Action|Adventure|Fantasy</td>\n",
       "      <td>169.000000</td>\n",
       "      <td>3.000000e+08</td>\n",
       "      <td>563.0</td>\n",
       "      <td>40000.0</td>\n",
       "      <td>5000.0</td>\n",
       "      <td>1000.000000</td>\n",
       "      <td>48350.0</td>\n",
       "      <td>0.0</td>\n",
       "      <td>302.000000</td>\n",
       "      <td>1238.000000</td>\n",
       "      <td>471220.0</td>\n",
       "      <td>7.1</td>\n",
       "      <td>2.350000</td>\n",
       "      <td>3.094042e+08</td>\n",
       "    </tr>\n",
       "    <tr>\n",
       "      <th>2</th>\n",
       "      <td>Action|Adventure|Thriller</td>\n",
       "      <td>148.000000</td>\n",
       "      <td>2.450000e+08</td>\n",
       "      <td>0.0</td>\n",
       "      <td>11000.0</td>\n",
       "      <td>393.0</td>\n",
       "      <td>161.000000</td>\n",
       "      <td>11700.0</td>\n",
       "      <td>85000.0</td>\n",
       "      <td>602.000000</td>\n",
       "      <td>994.000000</td>\n",
       "      <td>275868.0</td>\n",
       "      <td>6.8</td>\n",
       "      <td>2.350000</td>\n",
       "      <td>2.000742e+08</td>\n",
       "    </tr>\n",
       "    <tr>\n",
       "      <th>3</th>\n",
       "      <td>Action|Thriller</td>\n",
       "      <td>164.000000</td>\n",
       "      <td>2.500000e+08</td>\n",
       "      <td>22000.0</td>\n",
       "      <td>27000.0</td>\n",
       "      <td>23000.0</td>\n",
       "      <td>23000.000000</td>\n",
       "      <td>106759.0</td>\n",
       "      <td>164000.0</td>\n",
       "      <td>813.000000</td>\n",
       "      <td>2701.000000</td>\n",
       "      <td>1144337.0</td>\n",
       "      <td>8.5</td>\n",
       "      <td>2.350000</td>\n",
       "      <td>4.481306e+08</td>\n",
       "    </tr>\n",
       "    <tr>\n",
       "      <th>4</th>\n",
       "      <td>Documentary</td>\n",
       "      <td>107.201074</td>\n",
       "      <td>3.975262e+07</td>\n",
       "      <td>131.0</td>\n",
       "      <td>131.0</td>\n",
       "      <td>12.0</td>\n",
       "      <td>645.009761</td>\n",
       "      <td>143.0</td>\n",
       "      <td>0.0</td>\n",
       "      <td>140.194272</td>\n",
       "      <td>272.770808</td>\n",
       "      <td>8.0</td>\n",
       "      <td>7.1</td>\n",
       "      <td>2.220403</td>\n",
       "      <td>4.846841e+07</td>\n",
       "    </tr>\n",
       "  </tbody>\n",
       "</table>\n",
       "</div>"
      ],
      "text/plain": [
       "                            genres      length        budget  \\\n",
       "0  Action|Adventure|Fantasy|Sci-Fi  178.000000  2.370000e+08   \n",
       "1         Action|Adventure|Fantasy  169.000000  3.000000e+08   \n",
       "2        Action|Adventure|Thriller  148.000000  2.450000e+08   \n",
       "3                  Action|Thriller  164.000000  2.500000e+08   \n",
       "4                      Documentary  107.201074  3.975262e+07   \n",
       "\n",
       "   director_fb_likes  actor1_fb_likes  actor2_fb_likes  actor3_fb_likes  \\\n",
       "0                0.0           1000.0            936.0       855.000000   \n",
       "1              563.0          40000.0           5000.0      1000.000000   \n",
       "2                0.0          11000.0            393.0       161.000000   \n",
       "3            22000.0          27000.0          23000.0     23000.000000   \n",
       "4              131.0            131.0             12.0       645.009761   \n",
       "\n",
       "   total_cast_likes  fb_likes  critic_reviews  users_reviews  users_votes  \\\n",
       "0            4834.0   33000.0      723.000000    3054.000000     886204.0   \n",
       "1           48350.0       0.0      302.000000    1238.000000     471220.0   \n",
       "2           11700.0   85000.0      602.000000     994.000000     275868.0   \n",
       "3          106759.0  164000.0      813.000000    2701.000000    1144337.0   \n",
       "4             143.0       0.0      140.194272     272.770808          8.0   \n",
       "\n",
       "   score  aspect_ratio         gross  \n",
       "0    7.9      1.780000  7.605058e+08  \n",
       "1    7.1      2.350000  3.094042e+08  \n",
       "2    6.8      2.350000  2.000742e+08  \n",
       "3    8.5      2.350000  4.481306e+08  \n",
       "4    7.1      2.220403  4.846841e+07  "
      ]
     },
     "execution_count": 286,
     "metadata": {},
     "output_type": "execute_result"
    }
   ],
   "source": [
    "train = train[colnames]\n",
    "train.head()"
   ]
  },
  {
   "cell_type": "code",
   "execution_count": 287,
   "metadata": {},
   "outputs": [],
   "source": [
    "genres = [e.split(\"|\")[0].lower() for e in list(train['genres'])]\n",
    "train['genres'] = genres\n",
    "train = train[(train['genres']==\"adventure\") | (train['genres']==\"horror\") | (train['genres']==\"biography\") ]\n",
    "train['genres'] , genres = train['genres'].factorize()"
   ]
  },
  {
   "cell_type": "code",
   "execution_count": 288,
   "metadata": {},
   "outputs": [
    {
     "data": {
      "image/png": "[encoded data removed]",
      "text/plain": [
       "<matplotlib.figure.Figure at 0x1204e7550>"
      ]
     },
     "metadata": {},
     "output_type": "display_data"
    }
   ],
   "source": [
    "plt.subplots(figsize=(12,12))\n",
    "sns.countplot(train['genres'])\n",
    "plt.show()"
   ]
  },
  {
   "cell_type": "code",
   "execution_count": 293,
   "metadata": {},
   "outputs": [
    {
     "ename": "IndexError",
     "evalue": "only integers, slices (`:`), ellipsis (`...`), numpy.newaxis (`None`) and integer or boolean arrays are valid indices",
     "output_type": "error",
     "traceback": [
      "\u001b[0;31m---------------------------------------------------------------------------\u001b[0m",
      "\u001b[0;31mIndexError\u001b[0m                                Traceback (most recent call last)",
      "\u001b[0;32m<ipython-input-293-205d60e2cbaf>\u001b[0m in \u001b[0;36m<module>\u001b[0;34m()\u001b[0m\n\u001b[0;32m----> 1\u001b[0;31m \u001b[0mtrain_target\u001b[0m \u001b[0;34m=\u001b[0m \u001b[0mtrain\u001b[0m\u001b[0;34m[\u001b[0m\u001b[0;34m'genres'\u001b[0m\u001b[0;34m]\u001b[0m\u001b[0;34m.\u001b[0m\u001b[0mvalues\u001b[0m\u001b[0;34m\u001b[0m\u001b[0m\n\u001b[0m\u001b[1;32m      2\u001b[0m \u001b[0mtrain\u001b[0m \u001b[0;34m=\u001b[0m \u001b[0mnormalize\u001b[0m\u001b[0;34m(\u001b[0m\u001b[0mtrain\u001b[0m\u001b[0;34m[\u001b[0m\u001b[0mcolnames\u001b[0m\u001b[0;34m[\u001b[0m\u001b[0;36m1\u001b[0m\u001b[0;34m:\u001b[0m\u001b[0;34m]\u001b[0m\u001b[0;34m]\u001b[0m\u001b[0;34m)\u001b[0m\u001b[0;34m\u001b[0m\u001b[0m\n\u001b[1;32m      3\u001b[0m \u001b[0mX_train\u001b[0m\u001b[0;34m,\u001b[0m \u001b[0mX_test\u001b[0m\u001b[0;34m,\u001b[0m \u001b[0my_train\u001b[0m\u001b[0;34m,\u001b[0m \u001b[0my_test\u001b[0m \u001b[0;34m=\u001b[0m \u001b[0mtrain_test_split\u001b[0m\u001b[0;34m(\u001b[0m\u001b[0mtrain\u001b[0m\u001b[0;34m,\u001b[0m \u001b[0mtrain_target\u001b[0m\u001b[0;34m,\u001b[0m \u001b[0mtest_size\u001b[0m \u001b[0;34m=\u001b[0m \u001b[0;36m0.3\u001b[0m\u001b[0;34m,\u001b[0m\u001b[0mtrain_size\u001b[0m\u001b[0;34m=\u001b[0m \u001b[0;36m0.7\u001b[0m\u001b[0;34m)\u001b[0m\u001b[0;34m\u001b[0m\u001b[0m\n",
      "\u001b[0;31mIndexError\u001b[0m: only integers, slices (`:`), ellipsis (`...`), numpy.newaxis (`None`) and integer or boolean arrays are valid indices"
     ]
    }
   ],
   "source": [
    "train_target = train['genres'].values\n",
    "train = normalize(data[colnames[1:]])\n",
    "X_train, X_test, y_train, y_test = train_test_split(train, train_target, test_size = 0.3,train_size= 0.7)"
   ]
  },
  {
   "cell_type": "markdown",
   "metadata": {},
   "source": [
    "### SVM implementations in scikit-learn to train a classifier. Use the default classifier parameters. Evaluate your classifier on the development set."
   ]
  },
  {
   "cell_type": "code",
   "execution_count": 290,
   "metadata": {},
   "outputs": [
    {
     "data": {
      "text/plain": [
       "SVC(C=1.0, cache_size=200, class_weight=None, coef0=0.0,\n",
       "  decision_function_shape='ovo', degree=3, gamma='auto', kernel='rbf',\n",
       "  max_iter=-1, probability=False, random_state=None, shrinking=True,\n",
       "  tol=0.001, verbose=False)"
      ]
     },
     "execution_count": 290,
     "metadata": {},
     "output_type": "execute_result"
    }
   ],
   "source": [
    "clf = svm.SVC(decision_function_shape='ovo')\n",
    "clf.fit(X_train, y_train)"
   ]
  },
  {
   "cell_type": "code",
   "execution_count": 291,
   "metadata": {},
   "outputs": [
    {
     "data": {
      "text/plain": [
       "1.4007092198581561"
      ]
     },
     "execution_count": 291,
     "metadata": {},
     "output_type": "execute_result"
    }
   ],
   "source": [
    "pred = clf.predict(X_test)\n",
    "mean_squared_error(y_pred = pred, y_true = y_test)"
   ]
  },
  {
   "cell_type": "markdown",
   "metadata": {},
   "source": [
    "-----\n",
    "\n",
    "### Now try to tweak the classifier parameters and see if you can improve your model’s performance on the development set."
   ]
  },
  {
   "cell_type": "code",
   "execution_count": null,
   "metadata": {},
   "outputs": [],
   "source": []
  },
  {
   "cell_type": "markdown",
   "metadata": {},
   "source": [
    "-----\n",
    "\n",
    "### Implement your own k-nearest neighbors classifier (KNN)."
   ]
  },
  {
   "cell_type": "code",
   "execution_count": null,
   "metadata": {},
   "outputs": [],
   "source": []
  },
  {
   "cell_type": "markdown",
   "metadata": {},
   "source": [
    "-----\n",
    "\n",
    "### Now try to tune the $k$ value to achive the best possible performance on the development set."
   ]
  },
  {
   "cell_type": "code",
   "execution_count": null,
   "metadata": {},
   "outputs": [],
   "source": []
  },
  {
   "cell_type": "markdown",
   "metadata": {},
   "source": [
    "\n",
    "-----\n",
    "\n",
    "### Compare your best model you built in step (2) to your best KNN model by evaluating them on the test set."
   ]
  },
  {
   "cell_type": "code",
   "execution_count": null,
   "metadata": {},
   "outputs": [],
   "source": []
  }
 ],
 "metadata": {
  "kernelspec": {
   "display_name": "Python 3",
   "language": "python",
   "name": "python3"
  },
  "language_info": {
   "codemirror_mode": {
    "name": "ipython",
    "version": 3
   },
   "file_extension": ".py",
   "mimetype": "text/x-python",
   "name": "python",
   "nbconvert_exporter": "python",
   "pygments_lexer": "ipython3",
   "version": "3.6.3"
  }
 },
 "nbformat": 4,
 "nbformat_minor": 2
}
