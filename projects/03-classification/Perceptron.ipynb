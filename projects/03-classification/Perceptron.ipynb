{
 "cells": [
  {
   "cell_type": "code",
   "execution_count": 1,
   "metadata": {
    "collapsed": true
   },
   "outputs": [],
   "source": [
    "import numpy as np\n",
    "import matplotlib.pyplot as plt\n",
    "from matplotlib.colors import ListedColormap"
   ]
  },
  {
   "cell_type": "code",
   "execution_count": 2,
   "metadata": {
    "collapsed": true
   },
   "outputs": [],
   "source": [
    "class Perceptron(object):\n",
    "    \"\"\"Perceptron classifier.\n",
    "\n",
    "    Parameters\n",
    "    ------------\n",
    "    eta : float\n",
    "        Learning rate (between 0.0 and 1.0)\n",
    "    n_iter : int\n",
    "        Passes over the training dataset.\n",
    "\n",
    "    Attributes\n",
    "    -----------\n",
    "    w_ : 1d-array\n",
    "        Weights after fitting.\n",
    "    errors_ : list\n",
    "        Number of misclassifications (updates) in each epoch.\n",
    "\n",
    "    \"\"\"\n",
    "    def __init__(self, eta=0.01, n_iter=10):\n",
    "        self.eta = eta\n",
    "        self.n_iter = n_iter\n",
    "\n",
    "    def fit(self, X, y):\n",
    "        \"\"\"Fit training data.\n",
    "\n",
    "        Parameters\n",
    "        ----------\n",
    "        X : {array-like}, shape = [n_samples, n_features]\n",
    "            Training vectors, where n_samples is the number of samples and\n",
    "            n_features is the number of features.\n",
    "        y : array-like, shape = [n_samples]\n",
    "            Target values.\n",
    "\n",
    "        Returns\n",
    "        -------\n",
    "        self : object\n",
    "\n",
    "        \"\"\"\n",
    "        self.w_ = np.zeros(1 + X.shape[1])\n",
    "        self.errors_ = []\n",
    "\n",
    "        for _ in range(self.n_iter):\n",
    "            errors = 0\n",
    "            for xi, target in zip(X, y):\n",
    "                update = self.eta * (target - self.predict(xi))\n",
    "                self.w_[1:] += update * xi\n",
    "                self.w_[0] += update\n",
    "                errors += int(update != 0.0)\n",
    "            self.errors_.append(errors)\n",
    "        return self\n",
    "\n",
    "    def net_input(self, X):\n",
    "        \"\"\"Calculate net input\"\"\"\n",
    "        return np.dot(X, self.w_[1:]) + self.w_[0]\n",
    "\n",
    "    def predict(self, X):\n",
    "        \"\"\"Return class label after unit step\"\"\"\n",
    "        return np.where(self.net_input(X) >= 0.0, 1, -1)"
   ]
  },
  {
   "cell_type": "code",
   "execution_count": 3,
   "metadata": {
    "collapsed": true
   },
   "outputs": [],
   "source": [
    "def plot_decision_regions(X, y, classifier, resolution=0.02):\n",
    "\n",
    "    # setup marker generator and color map\n",
    "    markers = ('s', 'x', 'o', '^', 'v')\n",
    "    colors = ('red', 'blue', 'lightgreen', 'gray', 'cyan')\n",
    "    cmap = ListedColormap(colors[:len(np.unique(y))])\n",
    "\n",
    "    # plot the decision surface\n",
    "    x1_min, x1_max = X[:, 0].min() - 1, X[:, 0].max() + 1\n",
    "    x2_min, x2_max = X[:, 1].min() - 1, X[:, 1].max() + 1\n",
    "    xx1, xx2 = np.meshgrid(np.arange(x1_min, x1_max, resolution),\n",
    "                           np.arange(x2_min, x2_max, resolution))\n",
    "    Z = classifier.predict(np.array([xx1.ravel(), xx2.ravel()]).T)\n",
    "    Z = Z.reshape(xx1.shape)\n",
    "    plt.contourf(xx1, xx2, Z, alpha=0.4, cmap=cmap)\n",
    "    plt.xlim(xx1.min(), xx1.max())\n",
    "    plt.ylim(xx2.min(), xx2.max())\n",
    "\n",
    "    # plot class samples\n",
    "    for idx, cl in enumerate(np.unique(y)):\n",
    "        plt.scatter(x=X[y == cl, 0], y=X[y == cl, 1],\n",
    "                    alpha=0.8, c=cmap(idx),\n",
    "                    edgecolor='black',\n",
    "                    marker=markers[idx], \n",
    "                    label=cl)\n",
    "        \n"
   ]
  },
  {
   "cell_type": "code",
   "execution_count": 4,
   "metadata": {
    "collapsed": true
   },
   "outputs": [],
   "source": [
    "np.random.seed(12345)\n",
    "class_a_mean = -1.5\n",
    "class_a_sigma = 1\n",
    "class_b_mean = 2.5\n",
    "class_b_sigma = 0.80\n",
    "\n",
    "population_class_a = 1000\n",
    "population_class_b = 1000\n",
    "\n",
    "class_a = np.random.normal(class_a_mean, class_a_sigma, population_class_a)\n",
    "class_b = np.random.normal(class_b_mean, class_b_sigma, population_class_b)"
   ]
  },
  {
   "cell_type": "code",
   "execution_count": 5,
   "metadata": {},
   "outputs": [
    {
     "data": {
      "image/png": "[encoded data removed]",
      "text/plain": [
       "<matplotlib.figure.Figure at 0x10f273160>"
      ]
     },
     "metadata": {},
     "output_type": "display_data"
    }
   ],
   "source": [
    "count, bins, ignored = plt.hist(class_a, 30, normed=True)\n",
    "plt.plot(bins, 1/(class_a_sigma * np.sqrt(2 * np.pi)) * np.exp( - (bins - class_a_mean)**2 / (2 * class_a_sigma**2) ), linewidth=2, color='r')\n",
    "plt.show()"
   ]
  },
  {
   "cell_type": "code",
   "execution_count": 6,
   "metadata": {},
   "outputs": [
    {
     "data": {
      "image/png": "[encoded data removed]",
      "text/plain": [
       "<matplotlib.figure.Figure at 0x1114b2e80>"
      ]
     },
     "metadata": {},
     "output_type": "display_data"
    }
   ],
   "source": [
    "count, bins, ignored = plt.hist(class_b, 30, normed=True)\n",
    "plt.plot(bins, 1/(class_b_sigma * np.sqrt(2 * np.pi)) * np.exp( - (bins - class_b_mean)**2 / (2 * class_b_sigma**2) ), linewidth=2, color='r')\n",
    "plt.show()"
   ]
  },
  {
   "cell_type": "code",
   "execution_count": 7,
   "metadata": {
    "collapsed": true
   },
   "outputs": [],
   "source": [
    "sample_size = 100\n",
    "\n",
    "feature_a_0 = np.random.choice(class_a, size = sample_size) / 0.35\n",
    "feature_a_1 = np.random.choice(class_a, size = sample_size) + 0.20\n",
    "label_a = np.repeat(1, sample_size)\n",
    "sample_a = np.concatenate(([feature_a_0],[feature_a_1],[label_a]),axis=0)\n",
    "\n",
    "feature_b_0 = np.random.choice(class_b, size = sample_size)\n",
    "feature_b_1 = np.random.choice(class_b, size = sample_size)\n",
    "label_b = np.repeat(-1, sample_size)\n",
    "sample_b = np.concatenate(([feature_b_0],[feature_b_1],[label_b]),axis=0)\n",
    "\n",
    "dataset = np.column_stack((sample_a,sample_b))\n",
    "\n",
    "np.savetxt(\"data-separable.csv\", dataset.T,fmt='%1.4f',\n",
    "           delimiter=',' , comments='',\n",
    "           header=\"feature_0,feature_0,class_label\")"
   ]
  },
  {
   "cell_type": "code",
   "execution_count": 8,
   "metadata": {},
   "outputs": [
    {
     "data": {
      "text/plain": [
       "(3, 200)"
      ]
     },
     "execution_count": 8,
     "metadata": {},
     "output_type": "execute_result"
    }
   ],
   "source": [
    "dataset.shape"
   ]
  },
  {
   "cell_type": "code",
   "execution_count": 9,
   "metadata": {},
   "outputs": [
    {
     "data": {
      "image/png": "[encoded data removed]",
      "text/plain": [
       "<matplotlib.figure.Figure at 0x10f2717b8>"
      ]
     },
     "metadata": {},
     "output_type": "display_data"
    }
   ],
   "source": [
    "plt.hist(sample_a[1], alpha=0.5, label='a')\n",
    "plt.hist(sample_b[1], alpha=0.5, label='b')\n",
    "plt.legend(loc='upper right')\n",
    "plt.tight_layout()\n",
    "plt.show()"
   ]
  },
  {
   "cell_type": "code",
   "execution_count": 10,
   "metadata": {},
   "outputs": [
    {
     "data": {
      "image/png": "[encoded data removed]",
      "text/plain": [
       "<matplotlib.figure.Figure at 0x11181c160>"
      ]
     },
     "metadata": {},
     "output_type": "display_data"
    }
   ],
   "source": [
    "colors = ['r' if i==1 else 'b' for i in dataset[2]]\n",
    "plt.scatter(dataset[0], dataset[1], c = colors)\n",
    "plt.tight_layout()\n",
    "plt.xlabel('Feature-0')\n",
    "plt.ylabel('Feature-1')\n",
    "plt.show()"
   ]
  },
  {
   "cell_type": "code",
   "execution_count": 11,
   "metadata": {},
   "outputs": [
    {
     "data": {
      "text/plain": [
       "<__main__.Perceptron at 0x1119a9668>"
      ]
     },
     "execution_count": 11,
     "metadata": {},
     "output_type": "execute_result"
    }
   ],
   "source": [
    "X = dataset[:2].T\n",
    "y = dataset[2]\n",
    "ppn = Perceptron(eta=0.45, n_iter=10)\n",
    "ppn.fit(X, y)"
   ]
  },
  {
   "cell_type": "code",
   "execution_count": 12,
   "metadata": {
    "scrolled": true
   },
   "outputs": [
    {
     "data": {
      "image/png": "[encoded data removed]",
      "text/plain": [
       "<matplotlib.figure.Figure at 0x1116a9e48>"
      ]
     },
     "metadata": {},
     "output_type": "display_data"
    }
   ],
   "source": [
    "plt.plot(range(1, len(ppn.errors_) + 1), ppn.errors_, marker='o')\n",
    "plt.xlabel('Epochs')\n",
    "plt.ylabel('Number of updates')\n",
    "plt.show()"
   ]
  },
  {
   "cell_type": "code",
   "execution_count": 13,
   "metadata": {},
   "outputs": [
    {
     "name": "stdout",
     "output_type": "stream",
     "text": [
      "*** Rate Errors per Epochs ***       \n",
      " _____________________    \n",
      "| No. Errors | Epochs |     \n",
      " _____________________\n",
      "|      1     |    0   |\n",
      "|      3     |    1   |\n",
      "|      2     |    2   |\n",
      "|      1     |    3   |\n",
      "|      0     |    4   |\n",
      "|      0     |    5   |\n",
      "|      0     |    6   |\n",
      "|      0     |    7   |\n",
      "|      0     |    8   |\n",
      "|      0     |    9   |\n",
      "_____________________\n"
     ]
    }
   ],
   "source": [
    "print(\"*** Rate Errors per Epochs *** \\\n",
    "      \\n _____________________\\\n",
    "    \\n| No. Errors | Epochs | \\\n",
    "    \\n _____________________\")\n",
    "for i,e in enumerate(ppn.errors_):\n",
    "    print( \"|      \" + str(e) + \"     |    \" + str(i) + \"   |\")\n",
    "print(\"_____________________\")"
   ]
  },
  {
   "cell_type": "code",
   "execution_count": 14,
   "metadata": {},
   "outputs": [
    {
     "data": {
      "image/png": "[encoded data removed]",
      "text/plain": [
       "<matplotlib.figure.Figure at 0x111864e48>"
      ]
     },
     "metadata": {},
     "output_type": "display_data"
    }
   ],
   "source": [
    "plot_decision_regions(X, y, classifier=ppn)\n",
    "plt.xlabel('Feature-0')\n",
    "plt.ylabel('Feature-1')\n",
    "plt.legend(loc='upper left')\n",
    "plt.tight_layout()\n",
    "plt.show()"
   ]
  },
  {
   "cell_type": "markdown",
   "metadata": {},
   "source": [
    "* Create your own small dataset (at least 10 examples) that is not linearly seperable. \n",
    "* Now train a Perceptron model. \n",
    "* Did the algorithm converge? Provide evidence."
   ]
  },
  {
   "cell_type": "code",
   "execution_count": 15,
   "metadata": {
    "collapsed": true
   },
   "outputs": [],
   "source": [
    "sample_size = 100\n",
    "\n",
    "feature_a_0 = 5 + np.random.choice(class_a, size = sample_size) \n",
    "feature_a_1 = 2 + np.random.choice(class_a, size = sample_size) * 2\n",
    "label_a = np.repeat(1, sample_size)\n",
    "sample_a = np.concatenate(([feature_a_0],[feature_a_1],[label_a]),axis=0)\n",
    "\n",
    "feature_b_0 = np.random.choice(class_b, size = sample_size) \n",
    "feature_b_1 = np.random.choice(class_b, size = sample_size) + 0.5\n",
    "label_b = np.repeat(-1, sample_size)\n",
    "sample_b = np.concatenate(([feature_b_0],[feature_b_1],[label_b]),axis=0)\n",
    "\n",
    "dataset = np.column_stack((sample_a,sample_b))\n",
    "\n",
    "np.savetxt(\"data-non-separable.csv\", dataset.T,fmt='%1.4f',\n",
    "           delimiter=',' , comments='',\n",
    "           header=\"feature_0,feature_0,class_label\")"
   ]
  },
  {
   "cell_type": "code",
   "execution_count": 16,
   "metadata": {},
   "outputs": [
    {
     "data": {
      "image/png": "[encoded data removed]",
      "text/plain": [
       "<matplotlib.figure.Figure at 0x1116a9898>"
      ]
     },
     "metadata": {},
     "output_type": "display_data"
    }
   ],
   "source": [
    "plt.hist(sample_a[1], alpha=0.5, label='a')\n",
    "plt.hist(sample_b[1], alpha=0.5, label='b')\n",
    "plt.legend(loc='upper right')\n",
    "plt.tight_layout()\n",
    "plt.show()"
   ]
  },
  {
   "cell_type": "code",
   "execution_count": 17,
   "metadata": {},
   "outputs": [
    {
     "data": {
      "image/png": "[encoded data removed]",
      "text/plain": [
       "<matplotlib.figure.Figure at 0x1119d2be0>"
      ]
     },
     "metadata": {},
     "output_type": "display_data"
    }
   ],
   "source": [
    "colors = ['r' if i==1 else 'b' for i in dataset[2]]\n",
    "plt.scatter(dataset[0], dataset[1], c = colors)\n",
    "plt.tight_layout()\n",
    "plt.show()"
   ]
  },
  {
   "cell_type": "code",
   "execution_count": 18,
   "metadata": {},
   "outputs": [
    {
     "data": {
      "text/plain": [
       "<__main__.Perceptron at 0x111985128>"
      ]
     },
     "execution_count": 18,
     "metadata": {},
     "output_type": "execute_result"
    }
   ],
   "source": [
    "X = dataset[:2].T\n",
    "y = dataset[2]\n",
    "ppn = Perceptron(eta=0.45, n_iter=10)\n",
    "ppn.fit(X, y)"
   ]
  },
  {
   "cell_type": "code",
   "execution_count": 19,
   "metadata": {},
   "outputs": [
    {
     "name": "stdout",
     "output_type": "stream",
     "text": [
      "| No. Errors | Epochs |\n",
      "|      1     |    0   |\n",
      "|      4     |    1   |\n",
      "|      4     |    2   |\n",
      "|      2     |    3   |\n",
      "|      3     |    4   |\n",
      "|      2     |    5   |\n",
      "|      2     |    6   |\n",
      "|      4     |    7   |\n",
      "|      3     |    8   |\n",
      "|      2     |    9   |\n"
     ]
    }
   ],
   "source": [
    "print(\"| No. Errors | Epochs |\")\n",
    "for i,e in enumerate(ppn.errors_):\n",
    "    print( \"|      \" + str(e) + \"     |    \" + str(i) + \"   |\")"
   ]
  },
  {
   "cell_type": "code",
   "execution_count": 20,
   "metadata": {},
   "outputs": [
    {
     "data": {
      "image/png": "[encoded data removed]",
      "text/plain": [
       "<matplotlib.figure.Figure at 0x111448a20>"
      ]
     },
     "metadata": {},
     "output_type": "display_data"
    }
   ],
   "source": [
    "plt.plot(range(1, len(ppn.errors_) + 1), ppn.errors_, marker='o')\n",
    "plt.xlabel('Epochs')\n",
    "plt.ylabel('Number of updates')\n",
    "plt.tight_layout()\n",
    "plt.show()"
   ]
  },
  {
   "cell_type": "code",
   "execution_count": 21,
   "metadata": {},
   "outputs": [],
   "source": [
    "from sklearn.model_selection import train_test_split\n",
    "from sklearn.metrics import mean_squared_error\n",
    "from sklearn.preprocessing import normalize\n",
    "from numpy.random import seed\n",
    "import numpy as np"
   ]
  },
  {
   "cell_type": "code",
   "execution_count": 22,
   "metadata": {
    "collapsed": true
   },
   "outputs": [],
   "source": [
    "class AdalineSGD(object):\n",
    "    \"\"\"ADAptive LInear NEuron classifier.\n",
    "\n",
    "    Parameters\n",
    "    ------------\n",
    "    eta : float\n",
    "        Learning rate (between 0.0 and 1.0)\n",
    "    n_iter : int\n",
    "        Passes over the training dataset.\n",
    "\n",
    "    Attributes\n",
    "    -----------\n",
    "    w_ : 1d-array\n",
    "        Weights after fitting.\n",
    "    cost_ : list\n",
    "        Sum-of-squares cost function value averaged over all\n",
    "        training samples in each epoch.\n",
    "    shuffle : bool (default: True)\n",
    "        Shuffles training data every epoch if True to prevent cycles.\n",
    "    random_state : int (default: None)\n",
    "        Set random state for shuffling and initializing the weights.\n",
    "        \n",
    "    \"\"\"\n",
    "    def __init__(self, eta=0.01, n_iter=10, shuffle=True, random_state=None):\n",
    "        self.eta = eta\n",
    "        self.n_iter = n_iter\n",
    "        self.w_initialized = False\n",
    "        self.shuffle = shuffle\n",
    "        if random_state:\n",
    "            seed(random_state)\n",
    "        \n",
    "    def fit(self, X, y):\n",
    "        \"\"\" Fit training data.\n",
    "\n",
    "        Parameters\n",
    "        ----------\n",
    "        X : {array-like}, shape = [n_samples, n_features]\n",
    "            Training vectors, where n_samples is the number of samples and\n",
    "            n_features is the number of features.\n",
    "        y : array-like, shape = [n_samples]\n",
    "            Target values.\n",
    "\n",
    "        Returns\n",
    "        -------\n",
    "        self : object\n",
    "\n",
    "        \"\"\"\n",
    "        self._initialize_weights(X.shape[1])\n",
    "        self.cost_ = []\n",
    "        for i in range(self.n_iter):\n",
    "            if self.shuffle:\n",
    "                X, y = self._shuffle(X, y)\n",
    "            cost = []\n",
    "            for xi, target in zip(X, y):\n",
    "                cost.append(self._update_weights(xi, target))\n",
    "            avg_cost = sum(cost) / len(y)\n",
    "            self.cost_.append(avg_cost)\n",
    "        return self\n",
    "\n",
    "    def partial_fit(self, X, y):\n",
    "        \"\"\"Fit training data without reinitializing the weights\"\"\"\n",
    "        if not self.w_initialized:\n",
    "            self._initialize_weights(X.shape[1])\n",
    "        if y.ravel().shape[0] > 1:\n",
    "            for xi, target in zip(X, y):\n",
    "                self._update_weights(xi, target)\n",
    "        else:\n",
    "            self._update_weights(X, y)\n",
    "        return self\n",
    "\n",
    "    def _shuffle(self, X, y):\n",
    "        \"\"\"Shuffle training data\"\"\"\n",
    "        r = np.random.permutation(len(y))\n",
    "        return X[r], y[r]\n",
    "    \n",
    "    def _initialize_weights(self, m):\n",
    "        \"\"\"Initialize weights to zeros\"\"\"\n",
    "        self.w_ = np.zeros(1 + m)\n",
    "        self.w_initialized = True\n",
    "        \n",
    "    def _update_weights(self, xi, target):\n",
    "        \"\"\"Apply Adaline learning rule to update the weights\"\"\"\n",
    "        output = self.net_input(xi)\n",
    "        error = (target - output)\n",
    "        self.w_[1:] += self.eta * xi.dot(error)\n",
    "        self.w_[0] += self.eta * error\n",
    "        cost = 0.5 * error**2\n",
    "        return cost\n",
    "    \n",
    "    def net_input(self, X):\n",
    "        \"\"\"Calculate net input\"\"\"\n",
    "        return np.dot(X, self.w_[1:]) + self.w_[0]\n",
    "\n",
    "    def activation(self, X):\n",
    "        \"\"\"Compute linear activation\"\"\"\n",
    "        return self.net_input(X)\n",
    "\n",
    "    def predict(self, X):\n",
    "        \"\"\"Return class label after unit step\"\"\"\n",
    "        return np.where(self.activation(X) >= 0.0, 1, -1)"
   ]
  },
  {
   "cell_type": "code",
   "execution_count": 23,
   "metadata": {
    "collapsed": true
   },
   "outputs": [],
   "source": [
    "train = open(\"train.csv\")\n",
    "train = train.readlines()\n",
    "train = [ item.replace('\"\"',\"\") for item in train ]\n",
    "train = [ item.split(\"\\\"\") for item in train ]\n",
    "train = [ item[0][:-1] + item[2] for item in train[1:] ]\n",
    "train = [ item.split(\",\")[:7] + item.split(\",\")[8:] for item in train ]\n",
    "train = [ b\",\".join(i.encode() for i in item) for item in train ]\n",
    "\n",
    "train = np.genfromtxt(train, delimiter=\",\",\n",
    "                     dtype=[('passengerid', '<i8'), ('survived', '<i8'), ('pclass', '<i8'),\n",
    "                            ('sex', '|S1'), ('age', '<f8'), ('sibsp', '<i8'), ('parch', '<i8'),\n",
    "                            ('fare', '<f8'), ('cabin', '|S1'), ('embarked', 'S1')],\n",
    "                     names=['passengerid', 'survived', 'pclass', 'sex', 'age',\n",
    "                            'sibsp', 'parch', 'fare', 'cabin', 'embarked'])\n",
    "\n",
    "sex_classes, train['sex'] = np.unique(train['sex'], return_inverse=True)\n",
    "cabin_classes, train['cabin'] = np.unique(train['cabin'], return_inverse=True)\n",
    "embarked_classes, train['embarked'] = np.unique(train['embarked'], return_inverse=True)\n",
    "\n",
    "train = train.astype([  ('passengerid', '<i8'), ('survived', '<i8'), ('pclass', '<i8'),\n",
    "                        ('sex', '<i8'), ('age', '<f8'), ('sibsp', '<i8'), ('parch', '<i8'),\n",
    "                        ('fare', '<f8'), ('cabin', '<i8'), ('embarked', '<i8')])\n",
    "\n",
    "colnames = ['pclass', 'sex', 'age', 'sibsp', 'parch', 'fare', 'cabin', 'embarked']\n",
    "\n",
    "for feature in colnames:\n",
    "    train[feature] = np.where(np.isnan(train[feature]), np.nanmean(train[feature], axis=0), train[feature])"
   ]
  },
  {
   "cell_type": "code",
   "execution_count": 46,
   "metadata": {},
   "outputs": [
    {
     "data": {
      "text/plain": [
       "8"
      ]
     },
     "execution_count": 46,
     "metadata": {},
     "output_type": "execute_result"
    }
   ],
   "source": [
    "len(colnames)"
   ]
  },
  {
   "cell_type": "code",
   "execution_count": 24,
   "metadata": {
    "collapsed": true
   },
   "outputs": [],
   "source": [
    "pred = np.array([train['pclass'], train['sex'], train['age'], train['sibsp'], train['parch'], train['fare'], train['cabin'], train['embarked']])\n",
    "pred = pred.transpose()\n",
    "pred0 = normalize(pred)\n",
    "\n",
    "passengerId = train['passengerid']\n",
    "train_target = train['survived']\n",
    "\n",
    "X_train0, X_test0,\\\n",
    "y_train0, y_test0,\\\n",
    "idx_train0, idx_test0 = train_test_split(pred0, train_target, \n",
    "                                       passengerId, test_size = 0.3, \n",
    "                                       train_size= 0.7)"
   ]
  },
  {
   "cell_type": "code",
   "execution_count": 25,
   "metadata": {},
   "outputs": [
    {
     "data": {
      "text/plain": [
       "<__main__.AdalineSGD at 0x114ce7438>"
      ]
     },
     "execution_count": 25,
     "metadata": {},
     "output_type": "execute_result"
    }
   ],
   "source": [
    "ada0 = AdalineSGD(n_iter = 100, eta = 0.0001)\n",
    "ada0.fit(X_train0, y_train0)"
   ]
  },
  {
   "cell_type": "code",
   "execution_count": 26,
   "metadata": {},
   "outputs": [
    {
     "data": {
      "text/plain": [
       "0.60074626865671643"
      ]
     },
     "execution_count": 26,
     "metadata": {},
     "output_type": "execute_result"
    }
   ],
   "source": [
    "pred0 = ada0.predict(X_test0)\n",
    "mse0 = mean_squared_error(y_pred = pred0, y_true = y_test0)\n",
    "cost0 = ada0.cost_[-1]"
   ]
  },
  {
   "cell_type": "code",
   "execution_count": 28,
   "metadata": {
    "collapsed": true
   },
   "outputs": [],
   "source": [
    "pred = np.array([train['age'], train['pclass'], train['sex'], train['fare']])\n",
    "pred = pred.transpose()\n",
    "pred1 = normalize(pred)\n",
    "passengerId = train['passengerid']\n",
    "train_target = train['survived']\n",
    "\n",
    "X_train1, X_test1,\\\n",
    "y_train1, y_test1,\\\n",
    "idx_train1, idx_test1 = train_test_split(pred1, train_target, \n",
    "                                       passengerId, test_size = 0.3, \n",
    "                                       train_size= 0.7)"
   ]
  },
  {
   "cell_type": "code",
   "execution_count": 29,
   "metadata": {},
   "outputs": [
    {
     "data": {
      "text/plain": [
       "<__main__.AdalineSGD at 0x114ce7278>"
      ]
     },
     "execution_count": 29,
     "metadata": {},
     "output_type": "execute_result"
    }
   ],
   "source": [
    "ada1 = AdalineSGD(n_iter = 100, eta = 0.0001)\n",
    "ada1.fit(X_train1, y_train1)"
   ]
  },
  {
   "cell_type": "code",
   "execution_count": 30,
   "metadata": {},
   "outputs": [
    {
     "data": {
      "text/plain": [
       "0.61194029850746268"
      ]
     },
     "execution_count": 30,
     "metadata": {},
     "output_type": "execute_result"
    }
   ],
   "source": [
    "ada1 = AdalineSGD(n_iter = 100, eta = 0.0001)\n",
    "ada1.fit(X_train1, y_train1)\n",
    "pred1 = ada1.predict(X_test1)\n",
    "mse1 = mean_squared_error(y_pred = pred1, y_true = y_test1)\n",
    "cost1 = ada1.cost_[-1]"
   ]
  },
  {
   "cell_type": "code",
   "execution_count": 32,
   "metadata": {
    "collapsed": true
   },
   "outputs": [],
   "source": [
    "pred = np.array([train['age'], train['pclass']])\n",
    "pred = pred.transpose()\n",
    "pred2 = normalize(pred)\n",
    "passengerId = train['passengerid']\n",
    "train_target = train['survived']\n",
    "\n",
    "X_train2, X_test2,\\\n",
    "y_train2, y_test2,\\\n",
    "idx_train2, idx_test2 = train_test_split(pred2, train_target, \n",
    "                                       passengerId, test_size = 0.3, \n",
    "                                       train_size= 0.7)"
   ]
  },
  {
   "cell_type": "code",
   "execution_count": 33,
   "metadata": {},
   "outputs": [
    {
     "data": {
      "text/plain": [
       "<__main__.AdalineSGD at 0x114ce7320>"
      ]
     },
     "execution_count": 33,
     "metadata": {},
     "output_type": "execute_result"
    }
   ],
   "source": [
    "ada2 = AdalineSGD(n_iter = 100, eta = 0.0001)\n",
    "ada2.fit(X_train2, y_train2)\n",
    "pred2 = ada2.predict(X_test2)\n",
    "mse2 = mean_squared_error(y_pred = pred2, y_true = y_test2)\n",
    "cost2 = ada2.cost_[-1]"
   ]
  },
  {
   "cell_type": "code",
   "execution_count": 36,
   "metadata": {
    "collapsed": true
   },
   "outputs": [],
   "source": [
    "pred = np.array([train['pclass'], train['sex']])\n",
    "\n",
    "pred = pred.transpose()\n",
    "pred3 = normalize(pred)\n",
    "\n",
    "passengerId = train['passengerid']\n",
    "train_target = train['survived']\n",
    "\n",
    "X_train3, X_test3,\\\n",
    "y_train3, y_test3,\\\n",
    "idx_train3, idx_test3 = train_test_split(pred3, train_target, \n",
    "                                       passengerId, test_size = 0.3, \n",
    "                                       train_size= 0.7)"
   ]
  },
  {
   "cell_type": "code",
   "execution_count": 37,
   "metadata": {},
   "outputs": [
    {
     "data": {
      "text/plain": [
       "<__main__.AdalineSGD at 0x114ce7828>"
      ]
     },
     "execution_count": 37,
     "metadata": {},
     "output_type": "execute_result"
    }
   ],
   "source": [
    "ada3 = AdalineSGD(n_iter = 100, eta = 0.0001)\n",
    "ada3.fit(X_train3, y_train3)\n",
    "pred3 = ada3.predict(X_test3)\n",
    "mse3 = mean_squared_error(y_pred = pred3, y_true = y_test3)\n",
    "cost3 = ada3.cost_[-1]"
   ]
  },
  {
   "cell_type": "code",
   "execution_count": 40,
   "metadata": {
    "collapsed": true
   },
   "outputs": [],
   "source": [
    "pred = np.array([train['age'], train['fare']])\n",
    "pred = pred.transpose()\n",
    "pred4 = normalize(pred)\n",
    "passengerId = train['passengerid']\n",
    "train_target = train['survived']\n",
    "\n",
    "X_train4, X_test4,\\\n",
    "y_train4, y_test4,\\\n",
    "idx_train4, idx_test4 = train_test_split(pred4, train_target, \n",
    "                                       passengerId, test_size = 0.3, \n",
    "                                       train_size= 0.7)"
   ]
  },
  {
   "cell_type": "code",
   "execution_count": 41,
   "metadata": {},
   "outputs": [
    {
     "data": {
      "text/plain": [
       "<__main__.AdalineSGD at 0x114ce7ba8>"
      ]
     },
     "execution_count": 41,
     "metadata": {},
     "output_type": "execute_result"
    }
   ],
   "source": [
    "ada4 = AdalineSGD(n_iter = 100, eta = 0.0001)\n",
    "ada4.fit(X_train4, y_train4)\n",
    "pred4 = ada4.predict(X_test4)\n",
    "mse4 = mean_squared_error(y_pred = pred4, y_true = y_test4)\n",
    "cost4 = ada4.cost_[-1]"
   ]
  },
  {
   "cell_type": "code",
   "execution_count": 54,
   "metadata": {},
   "outputs": [
    {
     "data": {
      "image/png": "[encoded data removed]",
      "text/plain": [
       "<matplotlib.figure.Figure at 0x111410748>"
      ]
     },
     "metadata": {},
     "output_type": "display_data"
    }
   ],
   "source": [
    "plt.plot(range(1, len(ada4.cost_) + 1), ada4.cost_, marker='o')\n",
    "plt.xlabel('Epochs')\n",
    "plt.ylabel('Average Cost')\n",
    "plt.tight_layout()\n",
    "plt.show()"
   ]
  }
 ],
 "metadata": {
  "kernelspec": {
   "display_name": "Python 3",
   "language": "python",
   "name": "python3"
  },
  "language_info": {
   "codemirror_mode": {
    "name": "ipython",
    "version": 3
   },
   "file_extension": ".py",
   "mimetype": "text/x-python",
   "name": "python",
   "nbconvert_exporter": "python",
   "pygments_lexer": "ipython3",
   "version": "3.6.1"
  }
 },
 "nbformat": 4,
 "nbformat_minor": 2
}
